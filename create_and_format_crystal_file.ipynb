{
  "nbformat": 4,
  "nbformat_minor": 0,
  "metadata": {
    "colab": {
      "provenance": []
    },
    "kernelspec": {
      "name": "python3",
      "display_name": "Python 3"
    },
    "language_info": {
      "name": "python"
    }
  },
  "cells": [
    {
      "cell_type": "code",
      "execution_count": null,
      "metadata": {
        "id": "HK7wC_145Oqp"
      },
      "outputs": [],
      "source": [
        "import numpy as np\n",
        "import pandas as pd\n",
        "import matplotlib.pyplot as plt\n",
        "!pip install ase\n",
        "import ase #package called Atomic Simulation Environment which allows us to construct crystals easily\n",
        "from ase.spacegroup import crystal\n",
        "from ase.visualize import view\n",
        "from ase.visualize.plot import plot_atoms\n",
        "from tqdm import tqdm\n",
        "from ase.io import read, write"
      ]
    },
    {
      "cell_type": "code",
      "source": [
        "# Script to create crystal using ase and cif, as well as reformat the output lmp file so lammps can read it\n",
        "#author: wuaudrey, adapted from code by kmream\n",
        "\n",
        "atoms = read('9011997.cif') #cif file relevant to your crystal\n",
        "#print(atoms)\n",
        "\n",
        "# Replicate the unit cell\n",
        "atoms *= ((30,30,30))\n",
        "atoms.center\n",
        "\n",
        "view(atoms)\n",
        "\n",
        "write(\"diamond_cifcell_test.lmp\", atoms, format=\"lammps-data\", specorder=['C'])\n",
        "\n",
        "mass1 = 12.011 #C    -- edit these as needed\n",
        "mass2=196.000 #Au\n",
        "\n",
        "with open('diamond_cifcell_test.lmp', 'w') as f:\n",
        "  '''reformats file so lammps can read it properly\n",
        "    all notations that follow a '#' symbol are optional and are for clarity'''\n",
        "  f.write(\"This is a title line so LAMMPS doesn't act weird \\n\")\n",
        "  print(len(atoms), 'atoms', file=f)\n",
        "  f.write('2 atom types \\n') #change to match your crystal, keep plural even for singular type\n",
        "  f.write('\\n')\n",
        "  f.write('-50.0 150.0 xlo xhi \\n') #change to fit the dimensions you need\n",
        "  f.write('-20.0 110.0 ylo yhi \\n')\n",
        "  f.write('-20.0 110.0 zlo zhi \\n')\n",
        "  f.write('\\n')\n",
        "  f.write('Masses \\n')\n",
        "  f.write('\\n')\n",
        "  print('1', mass1, '#C', file=f)\n",
        "  print('2', mass2, '#Au \\n', file=f)\n",
        "  print('Atoms #atomic', atoms.cell, '\\n', file=f)\n",
        "\n",
        "  for i, atom in enumerate(atoms, start=1):\n",
        "      atom_charge = atom.charge '''this can be changed if a specific charge is wanted,\n",
        "                                also can be placed in the if loops below to specify charge to atom type'''\n",
        "      if atom.number == 6:\n",
        "        atom_type = 1\n",
        "      #if atom.number == 79:  -- an example of how to adjust for more than one atom type\n",
        "        #atom_type = 2\n",
        "      x, y, z = atom.position\n",
        "      f.write(f\"{i} {atom_type} {x:.6f} {y:.6f} {z:.6f}\\n\")\n",
        "      #f.write(f\"{i} {atom_type} {atom_charge} {x:.6f} {y:.6f} {z:.6f} \\n\") #substitute this line instead of the above if atom charge is wanted"
      ],
      "metadata": {
        "id": "4yVr6y405TjA"
      },
      "execution_count": null,
      "outputs": []
    }
  ]
}