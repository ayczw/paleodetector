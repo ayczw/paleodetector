{
  "cells": [
    {
      "cell_type": "code",
      "execution_count": null,
      "metadata": {
        "collapsed": true,
        "id": "HK7wC_145Oqp"
      },
      "outputs": [],
      "source": [
        "# Script to create crystal using crystals package and cif, as well as reformat the output lmp file so lammps can read it\n",
        "#@author: wuaudrey, adapted from code by kmream\n",
        "\n",
        "import numpy as np\n",
        "import pandas as pd\n",
        "import matplotlib.pyplot as plt\n",
        "!pip install ase\n",
        "import ase #package called Atomic Simulation Environment which allows us to construct crystals easily\n",
        "from ase.spacegroup import crystal\n",
        "from ase.visualize import view\n",
        "from ase.visualize.plot import plot_atoms\n",
        "from tqdm import tqdm\n",
        "from ase.io import read, write\n",
        "!pip install crystals\n",
        "from crystals import Crystal"
      ]
    },
    {
      "cell_type": "code",
      "execution_count": null,
      "metadata": {
        "id": "4yVr6y405TjA"
      },
      "outputs": [],
      "source": [
        "#crystals crystal method - quartz\n",
        "fosterite = Crystal.from_cif('Fosterite_296K_9000535.cif') #can be a file from the crystallography open database or exported from crystalmaker\n",
        "fosterite = fosterite.to_ase() #converts to ase formatting for ease of use\n",
        "print(f\"cif file crystal dimensions {fosterite.get_cell_lengths_and_angles}\")\n",
        "\n",
        "fosterite *= (80,80,80) #scale to get desired dimensions\n",
        "print(f\"final crystal dimensions {fosterite.get_cell_lengths_and_angles}\")\n",
        "\n",
        "write(\"fosterite_cell.lmp\", fosterite, format=\"lammps-data\", specorder=['Mg', 'O', 'Si'])\n",
        "\n",
        "mass1 = 24.305 #Mg   -- edit these as needed\n",
        "mass2 = 15.999 #0\n",
        "mass3 = 28.086 #Si\n",
        "mass4 = 196.967 #Au\n",
        "\n",
        "write(\"fosterite_cell.lmp\", fosterite, format='lammps-data', specorder=['Mg', 'O', 'Si'])\n",
        "\n",
        "with open('fosterite_cell.lmp', 'w') as f:\n",
        "    f.write(\"ID Type x y z\\n\")\n",
        "    for i, atom in enumerate(fosterite, start=1):\n",
        "        atom_type = atom.number  # or use a mapping from symbol if needed\n",
        "        x, y, z = atom.position\n",
        "        f.write(f\"{i} {atom_type} {x:.6f} {y:.6f} {z:.6f}\\n\")"
      ]
    },
    {
      "cell_type": "code",
      "execution_count": null,
      "metadata": {
        "id": "OW_VbRQkPv14"
      },
      "outputs": [],
      "source": [
        "data = pd.read_csv('fosterite_cell.lmp', sep = \" \")\n",
        "data.loc[data['Type'] == 12, 'Type'] = 1\n",
        "data.loc[data['Type'] == 8, 'Type'] = 2\n",
        "data.loc[data['Type'] == 14, 'Type'] = 3\n",
        "charge_map = {1: 2.0, 2: -2.0, 3: 4.0}\n",
        "data['Charge'] = data['Type'].map(charge_map)\n",
        "charge_col = data.pop('Charge')\n",
        "data.insert(2, 'Charge', charge_col)\n",
        "data\n",
        "\n",
        "xcut, ycut, zcut = 300, 300, 300\n",
        "\n",
        "def cutoff(data):\n",
        "    data_new = data[(data['x'] <= xcut)]\n",
        "    data_new = data_new[data_new['y'] <= ycut]\n",
        "    data_new = data_new[data_new['z'] <= zcut]\n",
        "    data_new = data_new[data_new['x'] >= 0]\n",
        "    data_new = data_new[data_new['y'] >= 0]\n",
        "    data_new = data_new[data_new['z'] >= 0]\n",
        "    return data_new\n",
        "\n",
        "def center_data(data):\n",
        "  mean_x = data['x'].mean()\n",
        "  mean_y = data['y'].mean()\n",
        "  mean_z = data['z'].mean()\n",
        "  data['x'] = data['x'] - mean_x\n",
        "  data['y'] = data['y'] - mean_y\n",
        "  data['z'] = data['z'] - mean_z\n",
        "  return data\n",
        "\n",
        "data = cutoff(data)\n",
        "data = center_data(data)\n",
        "data = data.reset_index(drop=True)\n",
        "data['ID'] = data.index + 1\n",
        "print(f\"number of atoms in crystal: {len(data)}\")\n",
        "data"
      ]
    },
    {
      "cell_type": "code",
      "execution_count": null,
      "metadata": {
        "id": "zDdhbRciNjYp"
      },
      "outputs": [],
      "source": [
        "write(\"fosterite_cell_cut.lmp\", fosterite, format='lammps-data', specorder=['Mg', 'O', 'Si'])\n",
        "\n",
        "xlo, xhi = data['x'].min(), data['x'].max()\n",
        "ylo, yhi = data['y'].min(), data['y'].max()\n",
        "zlo, zhi = data['z'].min(), data['z'].max()\n",
        "\n",
        "data = pd.DataFrame(data)\n",
        "pad = 5.0\n",
        "\n",
        "with open('fosterite_cell_cut.lmp', 'w') as f:\n",
        "  '''reformats file so lammps can read it properly\n",
        "    all notations that follow a '#' symbol are optional and are for clarity'''\n",
        "  f.write('Fosterite 9000536.cif, American Mineralogist 1976, sample at 296K) \\n') #title line\n",
        "  f.write('\\n')\n",
        "  print(len(data), 'atoms', file=f)\n",
        "  f.write('4 atom types \\n') #change to match your crystal, keep plural even for singular type\n",
        "  f.write('\\n')\n",
        "  #make sure your dimensions are listed in the correct order! (xyz)\n",
        "  #f.write(f\"{xlo - pad:.6f} {xhi + pad:.6f} xlo xhi\\n\")\n",
        "  f.write(f\"-200 400 xlo xhi\\n\") #modify the direction which you're shooting the gold ion to be much longer\n",
        "  f.write(f\"{ylo - pad:.6f} {yhi + pad:.6f} ylo yhi\\n\")\n",
        "  f.write(f\"{zlo - pad:.6f} {zhi + pad:.6f} zlo zhi\\n\\n\")\n",
        "\n",
        "  f.write('\\n')\n",
        "  f.write('Masses \\n')\n",
        "  f.write('\\n')\n",
        "  print('1', mass1, '#C', file=f)\n",
        "  print('2', mass2, '#O', file=f)\n",
        "  print('3', mass3, '#Si', file=f)\n",
        "  print('4', mass4, '#Au', file=f)\n",
        "  f.write(f\"Atoms #charge [{xcut},{ycut},{zcut}] \\n\")\n",
        "  f.write('\\n')\n",
        "\n",
        "  for _, row in data.iterrows():\n",
        "        f.write(f\"{int(row['ID'])} {int(row['Type'])} {(row['Charge'])} {row['x']} {row['y']} {row['z']}\\n\")\n"
      ]
    },
    {
      "cell_type": "code",
      "execution_count": null,
      "metadata": {
        "id": "99DJP3fNFCTW"
      },
      "outputs": [],
      "source": [
        "#prints a 3D visualization of your crystal\n",
        "\n",
        "colors = data['Type'].map({1: 'red', 2: 'blue', 3:'green'}) #assign colors to atoms as needed\n",
        "from csv import field_size_limit\n",
        "from mpl_toolkits.mplot3d import Axes3D\n",
        "fig = plt.figure()\n",
        "ax = fig.add_subplot(111, projection='3d')\n",
        "\n",
        "ax.scatter(data['x'], data['y'], data['z'], c = colors)\n",
        "\n",
        "ax.set_xlabel('X-axis')\n",
        "ax.set_ylabel('Y-axis')\n",
        "ax.set_zlabel('Z-axis')\n",
        "\n",
        "plt.show()\n",
        "\n",
        "with open(\"fosterite_cell_cut.lmp\", \"r\") as file:\n",
        "  in_atoms = False\n",
        "  for i, line in enumerate(file):\n",
        "      if \"Atoms\" in line:\n",
        "        in_atoms = True\n",
        "        continue\n",
        "      if in_atoms:\n",
        "        if line.strip() == \"\":\n",
        "          break\n",
        "        parts = line.split()\n",
        "        if len(parts) != 6:\n",
        "            print(f\"Line {i+1} malformed: {line}\")"
      ]
    },
    {
      "cell_type": "code",
      "execution_count": null,
      "metadata": {
        "id": "qTrltv9aHKWh"
      },
      "outputs": [],
      "source": [
        "#prints 2D projections of your crystal\n",
        "\n",
        "fig, ax = plt.subplots(figsize=(4, 3))\n",
        "plt.scatter(data['y'], data['z'], c = colors, marker = '*')\n",
        "\n",
        "ax.set_xlabel(\"Y (Å)\")\n",
        "ax.set_ylabel(\"Z (Å)\")\n",
        "plt.title(\"Fosterite Unit Cell: Projection along X-axis\")\n",
        "plt.tight_layout()\n",
        "plt.show()\n",
        "\n",
        "fig, ax = plt.subplots(figsize=(4, 3))\n",
        "plt.scatter(data['x'], data['z'], c = colors, marker = '*')\n",
        "\n",
        "ax.set_xlabel(\"X (Å)\")\n",
        "ax.set_ylabel(\"Z (Å)\")\n",
        "plt.title(\"Fosterite Unit Cell: Projection along Y-axis\")\n",
        "plt.tight_layout()\n",
        "plt.show()\n",
        "\n",
        "fig, ax = plt.subplots(figsize=(4, 3))\n",
        "plt.scatter(data['x'], data['y'], c = colors, marker = '*')\n",
        "\n",
        "ax.set_xlabel(\"X (Å)\")\n",
        "ax.set_ylabel(\"Y (Å)\")\n",
        "plt.title(\"Fosterite Unit Cell: Projection along Z-axis\")\n",
        "plt.tight_layout()\n",
        "plt.show()"
      ]
    },
    {
      "cell_type": "code",
      "execution_count": null,
      "metadata": {
        "collapsed": true,
        "id": "vtWGVdmlVZUV"
      },
      "outputs": [],
      "source": [
        "#code to check if there are any duplicated atoms in your crystal file (there shouldn't be, but this is a step of troubleshooting)\n",
        "\n",
        "import pandas as pd\n",
        "\n",
        "duplicates = data.duplicated(subset=['x', 'y', 'z'])\n",
        "print(f\"these are the duplicates: {duplicates}\") #print the boolean series indicating duplicates\n",
        "duplicate_rows = data[duplicates] #to get the actual duplicate rows\n",
        "print(f\"these are the duplicate rows: {duplicate_rows}\")"
      ]
    }
  ],
  "metadata": {
    "colab": {
      "provenance": []
    },
    "kernelspec": {
      "display_name": "Python 3",
      "name": "python3"
    },
    "language_info": {
      "name": "python"
    }
  },
  "nbformat": 4,
  "nbformat_minor": 0
}