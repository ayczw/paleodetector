{
  "cells": [
    {
      "cell_type": "code",
      "execution_count": 2,
      "metadata": {
        "colab": {
          "base_uri": "https://localhost:8080/"
        },
        "id": "HK7wC_145Oqp",
        "outputId": "68c7fb1e-bbc3-405a-fe24-ceef63d0d45c"
      },
      "outputs": [
        {
          "output_type": "stream",
          "name": "stdout",
          "text": [
            "Collecting ase\n",
            "  Downloading ase-3.25.0-py3-none-any.whl.metadata (4.2 kB)\n",
            "Requirement already satisfied: numpy>=1.19.5 in /usr/local/lib/python3.11/dist-packages (from ase) (2.0.2)\n",
            "Requirement already satisfied: scipy>=1.6.0 in /usr/local/lib/python3.11/dist-packages (from ase) (1.15.3)\n",
            "Requirement already satisfied: matplotlib>=3.3.4 in /usr/local/lib/python3.11/dist-packages (from ase) (3.10.0)\n",
            "Requirement already satisfied: contourpy>=1.0.1 in /usr/local/lib/python3.11/dist-packages (from matplotlib>=3.3.4->ase) (1.3.2)\n",
            "Requirement already satisfied: cycler>=0.10 in /usr/local/lib/python3.11/dist-packages (from matplotlib>=3.3.4->ase) (0.12.1)\n",
            "Requirement already satisfied: fonttools>=4.22.0 in /usr/local/lib/python3.11/dist-packages (from matplotlib>=3.3.4->ase) (4.58.1)\n",
            "Requirement already satisfied: kiwisolver>=1.3.1 in /usr/local/lib/python3.11/dist-packages (from matplotlib>=3.3.4->ase) (1.4.8)\n",
            "Requirement already satisfied: packaging>=20.0 in /usr/local/lib/python3.11/dist-packages (from matplotlib>=3.3.4->ase) (24.2)\n",
            "Requirement already satisfied: pillow>=8 in /usr/local/lib/python3.11/dist-packages (from matplotlib>=3.3.4->ase) (11.2.1)\n",
            "Requirement already satisfied: pyparsing>=2.3.1 in /usr/local/lib/python3.11/dist-packages (from matplotlib>=3.3.4->ase) (3.2.3)\n",
            "Requirement already satisfied: python-dateutil>=2.7 in /usr/local/lib/python3.11/dist-packages (from matplotlib>=3.3.4->ase) (2.9.0.post0)\n",
            "Requirement already satisfied: six>=1.5 in /usr/local/lib/python3.11/dist-packages (from python-dateutil>=2.7->matplotlib>=3.3.4->ase) (1.17.0)\n",
            "Downloading ase-3.25.0-py3-none-any.whl (3.0 MB)\n",
            "\u001b[2K   \u001b[90m━━━━━━━━━━━━━━━━━━━━━━━━━━━━━━━━━━━━━━━━\u001b[0m \u001b[32m3.0/3.0 MB\u001b[0m \u001b[31m20.1 MB/s\u001b[0m eta \u001b[36m0:00:00\u001b[0m\n",
            "\u001b[?25hInstalling collected packages: ase\n",
            "Successfully installed ase-3.25.0\n",
            "Collecting crystals\n",
            "  Downloading crystals-1.7.0-py3-none-any.whl.metadata (6.6 kB)\n",
            "Requirement already satisfied: numpy<3,>=1.20 in /usr/local/lib/python3.11/dist-packages (from crystals) (2.0.2)\n",
            "Collecting spglib<3,>=1.15 (from crystals)\n",
            "  Downloading spglib-2.6.0-cp311-cp311-manylinux_2_17_x86_64.manylinux2014_x86_64.whl.metadata (4.2 kB)\n",
            "Collecting pycifrw<5,>=4.4.1 (from crystals)\n",
            "  Downloading PyCifRW-4.4.6-cp311-cp311-manylinux_2_5_x86_64.whl.metadata (6.5 kB)\n",
            "Requirement already satisfied: requests<3,>=2 in /usr/local/lib/python3.11/dist-packages (from crystals) (2.32.3)\n",
            "Requirement already satisfied: ply in /usr/local/lib/python3.11/dist-packages (from pycifrw<5,>=4.4.1->crystals) (3.11)\n",
            "Requirement already satisfied: charset-normalizer<4,>=2 in /usr/local/lib/python3.11/dist-packages (from requests<3,>=2->crystals) (3.4.2)\n",
            "Requirement already satisfied: idna<4,>=2.5 in /usr/local/lib/python3.11/dist-packages (from requests<3,>=2->crystals) (3.10)\n",
            "Requirement already satisfied: urllib3<3,>=1.21.1 in /usr/local/lib/python3.11/dist-packages (from requests<3,>=2->crystals) (2.4.0)\n",
            "Requirement already satisfied: certifi>=2017.4.17 in /usr/local/lib/python3.11/dist-packages (from requests<3,>=2->crystals) (2025.4.26)\n",
            "Requirement already satisfied: typing-extensions>=4.9.0 in /usr/local/lib/python3.11/dist-packages (from spglib<3,>=1.15->crystals) (4.14.0)\n",
            "Downloading crystals-1.7.0-py3-none-any.whl (274 kB)\n",
            "\u001b[2K   \u001b[90m━━━━━━━━━━━━━━━━━━━━━━━━━━━━━━━━━━━━━━━━\u001b[0m \u001b[32m274.3/274.3 kB\u001b[0m \u001b[31m5.2 MB/s\u001b[0m eta \u001b[36m0:00:00\u001b[0m\n",
            "\u001b[?25hDownloading PyCifRW-4.4.6-cp311-cp311-manylinux_2_5_x86_64.whl (160 kB)\n",
            "\u001b[2K   \u001b[90m━━━━━━━━━━━━━━━━━━━━━━━━━━━━━━━━━━━━━━━━\u001b[0m \u001b[32m160.0/160.0 kB\u001b[0m \u001b[31m10.6 MB/s\u001b[0m eta \u001b[36m0:00:00\u001b[0m\n",
            "\u001b[?25hDownloading spglib-2.6.0-cp311-cp311-manylinux_2_17_x86_64.manylinux2014_x86_64.whl (809 kB)\n",
            "\u001b[2K   \u001b[90m━━━━━━━━━━━━━━━━━━━━━━━━━━━━━━━━━━━━━━━━\u001b[0m \u001b[32m809.0/809.0 kB\u001b[0m \u001b[31m26.1 MB/s\u001b[0m eta \u001b[36m0:00:00\u001b[0m\n",
            "\u001b[?25hInstalling collected packages: spglib, pycifrw, crystals\n",
            "Successfully installed crystals-1.7.0 pycifrw-4.4.6 spglib-2.6.0\n"
          ]
        }
      ],
      "source": [
        "import numpy as np\n",
        "import pandas as pd\n",
        "import matplotlib.pyplot as plt\n",
        "!pip install ase\n",
        "import ase #package called Atomic Simulation Environment which allows us to construct crystals easily\n",
        "from ase.spacegroup import crystal\n",
        "from ase.visualize import view\n",
        "from ase.visualize.plot import plot_atoms\n",
        "from tqdm import tqdm\n",
        "from ase.io import read, write\n",
        "!pip install crystals\n",
        "from crystals import Crystal"
      ]
    },
    {
      "cell_type": "code",
      "execution_count": 3,
      "metadata": {
        "colab": {
          "base_uri": "https://localhost:8080/"
        },
        "id": "4yVr6y405TjA",
        "outputId": "aabbb3b9-729f-494c-c44b-0115b91ca06a"
      },
      "outputs": [
        {
          "output_type": "stream",
          "name": "stdout",
          "text": [
            "cif file crystal dimensions <bound method Atoms.get_cell_lengths_and_angles of Atoms(symbols='Si2O5SiO', pbc=False, cell=[[4.255389026575598, -2.4568499999999993, 3.008773488485175e-16], [0.0, 4.9137, 3.008773488485175e-16], [0.0, 0.0, 5.4047]], initial_magmoms=..., masses=...)>\n",
            "final crystal dimensions <bound method Atoms.get_cell_lengths_and_angles of Atoms(symbols='O6000000Si3000000', pbc=False, cell=[[425.5389026575598, -245.68499999999995, 3.008773488485175e-14], [0.0, 491.37000000000006, 3.008773488485175e-14], [0.0, 0.0, 540.47]], initial_magmoms=..., masses=...)>\n"
          ]
        }
      ],
      "source": [
        "# Script to create crystal using crystals package and cif, as well as reformat the output lmp file so lammps can read it\n",
        "#@author: wuaudrey, adapted from code by kmream\n",
        "\n",
        "#crystals crystal method - quartz\n",
        "quartz = Crystal.from_cif('9005017.cif') #can be a file from the crystallography open database or exported from crystalmaker\n",
        "quartz = quartz.to_ase() #converts to ase formatting for ease of use\n",
        "print(f\"cif file crystal dimensions {quartz.get_cell_lengths_and_angles}\")\n",
        "\n",
        "quartz *= (100,100,100) #scale to get desired dimensions\n",
        "print(f\"final crystal dimensions {quartz.get_cell_lengths_and_angles}\")\n",
        "\n",
        "write(\"quartz_cell.lmp\", quartz, format=\"lammps-data\", specorder=['Si', 'O'])\n",
        "\n",
        "mass1 = 28.086 #Si    -- edit these as needed\n",
        "mass2 = 15.999 #O\n",
        "mass3=196.967 #Au\n",
        "\n",
        "write(\"quartz_cell.lmp\", quartz, format='lammps-data', specorder=['Si', 'O'])\n",
        "\n",
        "with open('quartz_cell.lmp', 'w') as f:\n",
        "    f.write(\"ID Type x y z\\n\")\n",
        "    for i, atom in enumerate(quartz, start=1):\n",
        "        atom_type = atom.number  # or use a mapping from symbol if needed\n",
        "        x, y, z = atom.position\n",
        "        f.write(f\"{i} {atom_type} {x:.6f} {y:.6f} {z:.6f}\\n\")"
      ]
    },
    {
      "cell_type": "code",
      "execution_count": 4,
      "metadata": {
        "colab": {
          "base_uri": "https://localhost:8080/",
          "height": 356
        },
        "id": "OW_VbRQkPv14",
        "outputId": "4750060a-da58-4adc-828a-944bd60a22b9"
      },
      "outputs": [
        {
          "output_type": "error",
          "ename": "ValueError",
          "evalue": "Length of values (1) does not match length of index (2151897)",
          "traceback": [
            "\u001b[0;31m---------------------------------------------------------------------------\u001b[0m",
            "\u001b[0;31mValueError\u001b[0m                                Traceback (most recent call last)",
            "\u001b[0;32m<ipython-input-4-2411492610>\u001b[0m in \u001b[0;36m<cell line: 0>\u001b[0;34m()\u001b[0m\n\u001b[1;32m     23\u001b[0m \u001b[0mdata\u001b[0m\u001b[0;34m[\u001b[0m\u001b[0;34m'ID'\u001b[0m\u001b[0;34m]\u001b[0m \u001b[0;34m=\u001b[0m \u001b[0mdata\u001b[0m\u001b[0;34m.\u001b[0m\u001b[0mindex\u001b[0m \u001b[0;34m+\u001b[0m \u001b[0;36m1\u001b[0m\u001b[0;34m\u001b[0m\u001b[0;34m\u001b[0m\u001b[0m\n\u001b[1;32m     24\u001b[0m \u001b[0mshift_x\u001b[0m\u001b[0;34m,\u001b[0m \u001b[0mshift_y\u001b[0m\u001b[0;34m,\u001b[0m \u001b[0mshift_z\u001b[0m \u001b[0;34m=\u001b[0m \u001b[0;34m[\u001b[0m\u001b[0mxcut\u001b[0m\u001b[0;34m/\u001b[0m\u001b[0;36m2\u001b[0m\u001b[0;34m]\u001b[0m\u001b[0;34m,\u001b[0m \u001b[0;34m[\u001b[0m\u001b[0mycut\u001b[0m\u001b[0;34m/\u001b[0m\u001b[0;36m2\u001b[0m\u001b[0;34m]\u001b[0m\u001b[0;34m,\u001b[0m \u001b[0;34m[\u001b[0m\u001b[0mzcut\u001b[0m\u001b[0;34m/\u001b[0m\u001b[0;36m2\u001b[0m\u001b[0;34m]\u001b[0m\u001b[0;34m\u001b[0m\u001b[0;34m\u001b[0m\u001b[0m\n\u001b[0;32m---> 25\u001b[0;31m \u001b[0mdata\u001b[0m\u001b[0;34m[\u001b[0m\u001b[0;34m'x'\u001b[0m\u001b[0;34m]\u001b[0m\u001b[0;34m,\u001b[0m \u001b[0mdata\u001b[0m\u001b[0;34m[\u001b[0m\u001b[0;34m'y'\u001b[0m\u001b[0;34m]\u001b[0m\u001b[0;34m,\u001b[0m \u001b[0mdata\u001b[0m\u001b[0;34m[\u001b[0m\u001b[0;34m'z'\u001b[0m\u001b[0;34m]\u001b[0m \u001b[0;34m=\u001b[0m \u001b[0;34m[\u001b[0m\u001b[0mdata\u001b[0m\u001b[0;34m[\u001b[0m\u001b[0;34m'x'\u001b[0m\u001b[0;34m]\u001b[0m \u001b[0;34m-\u001b[0m \u001b[0mshift_x\u001b[0m\u001b[0;34m]\u001b[0m\u001b[0;34m,\u001b[0m \u001b[0;34m[\u001b[0m\u001b[0mdata\u001b[0m\u001b[0;34m[\u001b[0m\u001b[0;34m'y'\u001b[0m\u001b[0;34m]\u001b[0m \u001b[0;34m-\u001b[0m \u001b[0mshift_y\u001b[0m\u001b[0;34m]\u001b[0m\u001b[0;34m,\u001b[0m \u001b[0;34m[\u001b[0m\u001b[0mdata\u001b[0m\u001b[0;34m[\u001b[0m\u001b[0;34m'z'\u001b[0m\u001b[0;34m]\u001b[0m \u001b[0;34m-\u001b[0m \u001b[0mshift_z\u001b[0m\u001b[0;34m]\u001b[0m \u001b[0;31m#centers the crystal about the origin\u001b[0m\u001b[0;34m\u001b[0m\u001b[0;34m\u001b[0m\u001b[0m\n\u001b[0m\u001b[1;32m     26\u001b[0m \u001b[0mdata\u001b[0m\u001b[0;34m\u001b[0m\u001b[0;34m\u001b[0m\u001b[0m\n",
            "\u001b[0;32m/usr/local/lib/python3.11/dist-packages/pandas/core/frame.py\u001b[0m in \u001b[0;36m__setitem__\u001b[0;34m(self, key, value)\u001b[0m\n\u001b[1;32m   4309\u001b[0m         \u001b[0;32melse\u001b[0m\u001b[0;34m:\u001b[0m\u001b[0;34m\u001b[0m\u001b[0;34m\u001b[0m\u001b[0m\n\u001b[1;32m   4310\u001b[0m             \u001b[0;31m# set column\u001b[0m\u001b[0;34m\u001b[0m\u001b[0;34m\u001b[0m\u001b[0m\n\u001b[0;32m-> 4311\u001b[0;31m             \u001b[0mself\u001b[0m\u001b[0;34m.\u001b[0m\u001b[0m_set_item\u001b[0m\u001b[0;34m(\u001b[0m\u001b[0mkey\u001b[0m\u001b[0;34m,\u001b[0m \u001b[0mvalue\u001b[0m\u001b[0;34m)\u001b[0m\u001b[0;34m\u001b[0m\u001b[0;34m\u001b[0m\u001b[0m\n\u001b[0m\u001b[1;32m   4312\u001b[0m \u001b[0;34m\u001b[0m\u001b[0m\n\u001b[1;32m   4313\u001b[0m     \u001b[0;32mdef\u001b[0m \u001b[0m_setitem_slice\u001b[0m\u001b[0;34m(\u001b[0m\u001b[0mself\u001b[0m\u001b[0;34m,\u001b[0m \u001b[0mkey\u001b[0m\u001b[0;34m:\u001b[0m \u001b[0mslice\u001b[0m\u001b[0;34m,\u001b[0m \u001b[0mvalue\u001b[0m\u001b[0;34m)\u001b[0m \u001b[0;34m->\u001b[0m \u001b[0;32mNone\u001b[0m\u001b[0;34m:\u001b[0m\u001b[0;34m\u001b[0m\u001b[0;34m\u001b[0m\u001b[0m\n",
            "\u001b[0;32m/usr/local/lib/python3.11/dist-packages/pandas/core/frame.py\u001b[0m in \u001b[0;36m_set_item\u001b[0;34m(self, key, value)\u001b[0m\n\u001b[1;32m   4522\u001b[0m         \u001b[0mensure\u001b[0m \u001b[0mhomogeneity\u001b[0m\u001b[0;34m.\u001b[0m\u001b[0;34m\u001b[0m\u001b[0;34m\u001b[0m\u001b[0m\n\u001b[1;32m   4523\u001b[0m         \"\"\"\n\u001b[0;32m-> 4524\u001b[0;31m         \u001b[0mvalue\u001b[0m\u001b[0;34m,\u001b[0m \u001b[0mrefs\u001b[0m \u001b[0;34m=\u001b[0m \u001b[0mself\u001b[0m\u001b[0;34m.\u001b[0m\u001b[0m_sanitize_column\u001b[0m\u001b[0;34m(\u001b[0m\u001b[0mvalue\u001b[0m\u001b[0;34m)\u001b[0m\u001b[0;34m\u001b[0m\u001b[0;34m\u001b[0m\u001b[0m\n\u001b[0m\u001b[1;32m   4525\u001b[0m \u001b[0;34m\u001b[0m\u001b[0m\n\u001b[1;32m   4526\u001b[0m         if (\n",
            "\u001b[0;32m/usr/local/lib/python3.11/dist-packages/pandas/core/frame.py\u001b[0m in \u001b[0;36m_sanitize_column\u001b[0;34m(self, value)\u001b[0m\n\u001b[1;32m   5264\u001b[0m \u001b[0;34m\u001b[0m\u001b[0m\n\u001b[1;32m   5265\u001b[0m         \u001b[0;32mif\u001b[0m \u001b[0mis_list_like\u001b[0m\u001b[0;34m(\u001b[0m\u001b[0mvalue\u001b[0m\u001b[0;34m)\u001b[0m\u001b[0;34m:\u001b[0m\u001b[0;34m\u001b[0m\u001b[0;34m\u001b[0m\u001b[0m\n\u001b[0;32m-> 5266\u001b[0;31m             \u001b[0mcom\u001b[0m\u001b[0;34m.\u001b[0m\u001b[0mrequire_length_match\u001b[0m\u001b[0;34m(\u001b[0m\u001b[0mvalue\u001b[0m\u001b[0;34m,\u001b[0m \u001b[0mself\u001b[0m\u001b[0;34m.\u001b[0m\u001b[0mindex\u001b[0m\u001b[0;34m)\u001b[0m\u001b[0;34m\u001b[0m\u001b[0;34m\u001b[0m\u001b[0m\n\u001b[0m\u001b[1;32m   5267\u001b[0m         \u001b[0marr\u001b[0m \u001b[0;34m=\u001b[0m \u001b[0msanitize_array\u001b[0m\u001b[0;34m(\u001b[0m\u001b[0mvalue\u001b[0m\u001b[0;34m,\u001b[0m \u001b[0mself\u001b[0m\u001b[0;34m.\u001b[0m\u001b[0mindex\u001b[0m\u001b[0;34m,\u001b[0m \u001b[0mcopy\u001b[0m\u001b[0;34m=\u001b[0m\u001b[0;32mTrue\u001b[0m\u001b[0;34m,\u001b[0m \u001b[0mallow_2d\u001b[0m\u001b[0;34m=\u001b[0m\u001b[0;32mTrue\u001b[0m\u001b[0;34m)\u001b[0m\u001b[0;34m\u001b[0m\u001b[0;34m\u001b[0m\u001b[0m\n\u001b[1;32m   5268\u001b[0m         if (\n",
            "\u001b[0;32m/usr/local/lib/python3.11/dist-packages/pandas/core/common.py\u001b[0m in \u001b[0;36mrequire_length_match\u001b[0;34m(data, index)\u001b[0m\n\u001b[1;32m    571\u001b[0m     \"\"\"\n\u001b[1;32m    572\u001b[0m     \u001b[0;32mif\u001b[0m \u001b[0mlen\u001b[0m\u001b[0;34m(\u001b[0m\u001b[0mdata\u001b[0m\u001b[0;34m)\u001b[0m \u001b[0;34m!=\u001b[0m \u001b[0mlen\u001b[0m\u001b[0;34m(\u001b[0m\u001b[0mindex\u001b[0m\u001b[0;34m)\u001b[0m\u001b[0;34m:\u001b[0m\u001b[0;34m\u001b[0m\u001b[0;34m\u001b[0m\u001b[0m\n\u001b[0;32m--> 573\u001b[0;31m         raise ValueError(\n\u001b[0m\u001b[1;32m    574\u001b[0m             \u001b[0;34m\"Length of values \"\u001b[0m\u001b[0;34m\u001b[0m\u001b[0;34m\u001b[0m\u001b[0m\n\u001b[1;32m    575\u001b[0m             \u001b[0;34mf\"({len(data)}) \"\u001b[0m\u001b[0;34m\u001b[0m\u001b[0;34m\u001b[0m\u001b[0m\n",
            "\u001b[0;31mValueError\u001b[0m: Length of values (1) does not match length of index (2151897)"
          ]
        }
      ],
      "source": [
        "data = pd.read_csv('quartz_cell.lmp', sep = \" \")\n",
        "data.loc[data['Type'] == 14, 'Type'] = 1\n",
        "data.loc[data['Type'] == 8, 'Type'] = 2\n",
        "charge_map = {1: 1.0, 2: -0.5}\n",
        "data['Charge'] = data['Type'].map(charge_map)\n",
        "charge_col = data.pop('Charge')\n",
        "data.insert(2, 'Charge', charge_col)\n",
        "data\n",
        "\n",
        "xcut, ycut, zcut = 300, 300, 300\n",
        "xmin, ymin, zmin = 0,0,0\n",
        "def cutoff(data):\n",
        "    data_new = data[(data['x'] <= xcut)]\n",
        "    data_new = data_new[data_new['y'] <= ycut]\n",
        "    data_new = data_new[data_new['z'] <= zcut]\n",
        "    data_new = data_new[data_new['x'] >= xmin]\n",
        "    data_new = data_new[data_new['y'] >= ymin]\n",
        "    data_new = data_new[data_new['z'] >= zmin ]\n",
        "    return data_new\n",
        "\n",
        "data = cutoff(data)\n",
        "data = data.reset_index(drop=True)\n",
        "data['ID'] = data.index + 1\n",
        "data"
      ]
    },
    {
      "cell_type": "code",
      "execution_count": null,
      "metadata": {
        "id": "zDdhbRciNjYp"
      },
      "outputs": [],
      "source": [
        "write(\"quartz_cell_cut.lmp\", quartz, format='lammps-data', specorder=['Si', 'O'])\n",
        "\n",
        "xlo, xhi = data['x'].min(), data['x'].max()\n",
        "ylo, yhi = data['y'].min(), data['y'].max()\n",
        "zlo, zhi = data['z'].min(), data['z'].max()\n",
        "\n",
        "data = pd.DataFrame(data)\n",
        "\n",
        "with open('quartz_cell_cut.lmp', 'w') as f:\n",
        "  '''reformats file so lammps can read it properly\n",
        "    all notations that follow a '#' symbol are optional and are for clarity'''\n",
        "  f.write('Quartz 9005017.cif, Kihara 1990, sample at 298K) \\n') #title line\n",
        "  f.write('\\n')\n",
        "  print(len(data), 'atoms', file=f)\n",
        "  f.write('3 atom types \\n') #change to match your crystal, keep plural even for singular type\n",
        "  f.write('\\n')\n",
        "  pad = 5.0\n",
        "  #f.write(f\"{xlo - pad:.6f} {xhi + pad:.6f} xlo xhi\\n\")\n",
        "  f.write(f\"-100 400 xlo xhi\\n\") #modify the direction which you're shooting the gold ion to be much longer\n",
        "  f.write(f\"{ylo - pad:.6f} {yhi + pad:.6f} ylo yhi\\n\")\n",
        "  f.write(f\"{zlo - pad:.6f} {zhi + pad:.6f} zlo zhi\\n\\n\")\n",
        "  #f.write('{xmin} 150.0 xlo xhi \\n') #change to fit the dimensions you need\n",
        "  #f.write('-20.0 110.0 ylo yhi \\n')\n",
        "  #f.write('-20.0 110.0 zlo zhi \\n')\n",
        "  f.write('\\n')\n",
        "  f.write('Masses \\n')\n",
        "  f.write('\\n')\n",
        "  print('1', mass1, '#Si', file=f)\n",
        "  print('2', mass2, '#O', file=f)\n",
        "  print('3', mass3, '#Au \\n', file=f)\n",
        "  f.write(f\"Atoms #charge [{xcut},{ycut},{zcut}] \\n\")\n",
        "  f.write('\\n')\n",
        "\n",
        "  for _, row in data.iterrows():\n",
        "        f.write(f\"{int(row['ID'])} {int(row['Type'])} {(row['Charge'])} {row['x']} {row['y']} {row['z']}\\n\")\n",
        "      #f.write(f\"{i} {atom_type} {x:.6f} {y:.6f} {z:.6f}\\n\")\n",
        "      #f.write(f\"{i} {atom_type} {atom_charge} {x:.6f} {y:.6f} {z:.6f} \\n\") #substitute this line instead of the above if atom charge is wanted"
      ]
    },
    {
      "cell_type": "markdown",
      "source": [],
      "metadata": {
        "id": "W-TOG8wG8pq_"
      }
    },
    {
      "cell_type": "code",
      "execution_count": null,
      "metadata": {
        "id": "99DJP3fNFCTW"
      },
      "outputs": [],
      "source": [
        "#prints a 3D visualization of your crystal\n",
        "\n",
        "colors = data['Type'].map({1: 'red', 2: 'blue'}) #assign colors to atoms as needed\n",
        "\n",
        "#colors = ['red' if atom_type == 1 else 'blue' for atom_type in data['Type']] #assign colors to atoms as needed\n",
        "\n",
        "from csv import field_size_limit\n",
        "from mpl_toolkits.mplot3d import Axes3D\n",
        "fig = plt.figure()\n",
        "ax = fig.add_subplot(111, projection='3d')\n",
        "\n",
        "ax.scatter(data['x'], data['y'], data['z'], c = colors)\n",
        "\n",
        "ax.set_xlabel('X-axis')\n",
        "ax.set_ylabel('Y-axis')\n",
        "ax.set_zlabel('Z-axis')\n",
        "\n",
        "plt.legend()\n",
        "plt.show()\n",
        "\n",
        "with open(\"quartz_cell_cut.lmp\", \"r\") as file:\n",
        "  in_atoms = False\n",
        "  for i, line in enumerate(file):\n",
        "      if \"Atoms\" in line:\n",
        "        in_atoms = True\n",
        "        continue\n",
        "      if in_atoms:\n",
        "        if line.strip() == \"\":\n",
        "          break\n",
        "        parts = line.split()\n",
        "        if len(parts) != 6:\n",
        "            print(f\"Line {i+1} malformed: {line}\")"
      ]
    },
    {
      "cell_type": "code",
      "execution_count": null,
      "metadata": {
        "id": "qTrltv9aHKWh"
      },
      "outputs": [],
      "source": [
        "#prints 2D projections of your crystal\n",
        "\n",
        "fig, ax = plt.subplots(figsize=(4, 3))\n",
        "plt.scatter(data['y'], data['z'], c = colors, marker = '*')\n",
        "\n",
        "ax.set_xlabel(\"Y (Å)\")\n",
        "ax.set_ylabel(\"Z (Å)\")\n",
        "plt.title(\"Quartz Unit Cell: Projection along X-axis\")\n",
        "plt.tight_layout()\n",
        "plt.show()\n",
        "\n",
        "fig, ax = plt.subplots(figsize=(4, 3))\n",
        "plt.scatter(data['x'], data['z'], c = colors, marker = '*')\n",
        "\n",
        "ax.set_xlabel(\"X (Å)\")\n",
        "ax.set_ylabel(\"Z (Å)\")\n",
        "plt.title(\"Quartz Unit Cell: Projection along Y-axis\")\n",
        "plt.tight_layout()\n",
        "plt.show()\n",
        "\n",
        "fig, ax = plt.subplots(figsize=(4, 3))\n",
        "plt.scatter(data['x'], data['y'], c = colors, marker = '*')\n",
        "\n",
        "ax.set_xlabel(\"X (Å)\")\n",
        "ax.set_ylabel(\"Y (Å)\")\n",
        "plt.title(\"Quartz Unit Cell: Projection along Z-axis\")\n",
        "plt.tight_layout()\n",
        "plt.legend()\n",
        "plt.show()"
      ]
    },
    {
      "cell_type": "code",
      "execution_count": null,
      "metadata": {
        "collapsed": true,
        "id": "vtWGVdmlVZUV"
      },
      "outputs": [],
      "source": [
        "#code to check if there are any duplicated atoms in your crystal file (there shouldn't be, but this is a step of troubleshooting)\n",
        "\n",
        "import pandas as pd\n",
        "\n",
        "duplicates = data.duplicated(subset=['x', 'y', 'z'])\n",
        "print(f\"these are the duplicates: {duplicates}\") #print the boolean series indicating duplicates\n",
        "duplicate_rows = df[duplicates] #to get the actual duplicate rows\n",
        "print(f\"these are the duplicate rows: {duplicate_rows}\")"
      ]
    },
    {
      "cell_type": "code",
      "execution_count": null,
      "metadata": {
        "id": "ERMBdmhIGwVi"
      },
      "outputs": [],
      "source": []
    }
  ],
  "metadata": {
    "colab": {
      "provenance": []
    },
    "kernelspec": {
      "display_name": "Python 3",
      "name": "python3"
    },
    "language_info": {
      "name": "python"
    }
  },
  "nbformat": 4,
  "nbformat_minor": 0
}